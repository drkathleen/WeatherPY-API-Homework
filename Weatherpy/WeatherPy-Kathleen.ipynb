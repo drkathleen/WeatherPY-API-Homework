{
 "cells": [
  {
   "cell_type": "markdown",
   "metadata": {},
   "source": [
    "# WeatherPy\n",
    "----\n",
    "\n",
    "### Analysis\n",
    "* As expected, the weather becomes significantly warmer as one approaches the equator (0 Deg. Latitude). More interestingly, however, is the fact that the southern hemisphere tends to be warmer this time of year than the northern hemisphere. This may be due to the tilt of the earth.\n",
    "* There is no strong relationship between latitude and cloudiness. However, it is interesting to see that a strong band of cities sits at 0, 80, and 100% cloudiness.\n",
    "* There is no strong relationship between latitude and wind speed. However, in northern hemispheres there is a flurry of cities with over 20 mph of wind.\n",
    "\n",
    "---\n",
    "\n",
    "#### Note\n",
    "* Instructions have been included for each segment. You do not have to follow them exactly, but they are included to help you think through the steps."
   ]
  },
  {
   "cell_type": "code",
   "execution_count": 5,
   "metadata": {
    "scrolled": true
   },
   "outputs": [],
   "source": [
    "# Dependencies and Setup\n",
    "import matplotlib.pyplot as plt\n",
    "import pandas as pd\n",
    "import numpy as np\n",
    "import requests\n",
    "import time\n",
    "import csv\n",
    "\n",
    "# Import API key\n",
    "from api_keys import api_key\n",
    "\n",
    "# Incorporated citipy to determine city based on latitude and longitude\n",
    "from citipy import citipy\n",
    "\n",
    "# Output File (CSV)\n",
    "output_data_file = \"output_data/cities.csv\"\n",
    "\n",
    "# Range of latitudes and longitudes\n",
    "lat_range = (-90, 90)\n",
    "lng_range = (-180, 180)"
   ]
  },
  {
   "cell_type": "markdown",
   "metadata": {},
   "source": [
    "## Generate Cities List"
   ]
  },
  {
   "cell_type": "code",
   "execution_count": null,
   "metadata": {},
   "outputs": [],
   "source": []
  },
  {
   "cell_type": "code",
   "execution_count": 6,
   "metadata": {},
   "outputs": [
    {
     "data": {
      "text/plain": [
       "637"
      ]
     },
     "execution_count": 6,
     "metadata": {},
     "output_type": "execute_result"
    }
   ],
   "source": [
    "# List for holding lat_lngs and cities\n",
    "lat_lngs = []\n",
    "cities = []\n",
    "\n",
    "# Create a set of random lat and lng combinations\n",
    "lats = np.random.uniform(low=-90.000, high=90.000, size=1500)\n",
    "lngs = np.random.uniform(low=-180.000, high=180.000, size=1500)\n",
    "lat_lngs = zip(lats, lngs)\n",
    "\n",
    "# Identify nearest city for each lat, lng combination\n",
    "for lat_lng in lat_lngs:\n",
    "    city = citipy.nearest_city(lat_lng[0], lat_lng[1]).city_name\n",
    "    \n",
    "    # If the city is unique, then add it to a our cities list\n",
    "    if city not in cities:\n",
    "        cities.append(city)\n",
    "\n",
    "# Print the city count to confirm sufficient count\n",
    "len(cities)"
   ]
  },
  {
   "cell_type": "code",
   "execution_count": 7,
   "metadata": {},
   "outputs": [
    {
     "data": {
      "text/html": [
       "<div>\n",
       "<style scoped>\n",
       "    .dataframe tbody tr th:only-of-type {\n",
       "        vertical-align: middle;\n",
       "    }\n",
       "\n",
       "    .dataframe tbody tr th {\n",
       "        vertical-align: top;\n",
       "    }\n",
       "\n",
       "    .dataframe thead th {\n",
       "        text-align: right;\n",
       "    }\n",
       "</style>\n",
       "<table border=\"1\" class=\"dataframe\">\n",
       "  <thead>\n",
       "    <tr style=\"text-align: right;\">\n",
       "      <th></th>\n",
       "      <th>City</th>\n",
       "    </tr>\n",
       "  </thead>\n",
       "  <tbody>\n",
       "    <tr>\n",
       "      <th>0</th>\n",
       "      <td>ushuaia</td>\n",
       "    </tr>\n",
       "    <tr>\n",
       "      <th>1</th>\n",
       "      <td>palmer</td>\n",
       "    </tr>\n",
       "    <tr>\n",
       "      <th>2</th>\n",
       "      <td>ranong</td>\n",
       "    </tr>\n",
       "    <tr>\n",
       "      <th>3</th>\n",
       "      <td>hidalgo</td>\n",
       "    </tr>\n",
       "    <tr>\n",
       "      <th>4</th>\n",
       "      <td>kavaratti</td>\n",
       "    </tr>\n",
       "  </tbody>\n",
       "</table>\n",
       "</div>"
      ],
      "text/plain": [
       "        City\n",
       "0    ushuaia\n",
       "1     palmer\n",
       "2     ranong\n",
       "3    hidalgo\n",
       "4  kavaratti"
      ]
     },
     "execution_count": 7,
     "metadata": {},
     "output_type": "execute_result"
    }
   ],
   "source": [
    "cities_df = pd.DataFrame({\"City\": cities})\n",
    "cities_df = cities_df.drop_duplicates(\"City\")\n",
    "cities_df.head()"
   ]
  },
  {
   "cell_type": "code",
   "execution_count": 8,
   "metadata": {},
   "outputs": [
    {
     "data": {
      "text/html": [
       "<div>\n",
       "<style scoped>\n",
       "    .dataframe tbody tr th:only-of-type {\n",
       "        vertical-align: middle;\n",
       "    }\n",
       "\n",
       "    .dataframe tbody tr th {\n",
       "        vertical-align: top;\n",
       "    }\n",
       "\n",
       "    .dataframe thead th {\n",
       "        text-align: right;\n",
       "    }\n",
       "</style>\n",
       "<table border=\"1\" class=\"dataframe\">\n",
       "  <thead>\n",
       "    <tr style=\"text-align: right;\">\n",
       "      <th></th>\n",
       "      <th>City</th>\n",
       "      <th>Latitude</th>\n",
       "      <th>Longitude</th>\n",
       "      <th>Temperature</th>\n",
       "      <th>Humidity</th>\n",
       "      <th>Cloudiness</th>\n",
       "      <th>Wind_Speed</th>\n",
       "    </tr>\n",
       "  </thead>\n",
       "  <tbody>\n",
       "    <tr>\n",
       "      <th>0</th>\n",
       "      <td>ushuaia</td>\n",
       "      <td></td>\n",
       "      <td></td>\n",
       "      <td></td>\n",
       "      <td></td>\n",
       "      <td></td>\n",
       "      <td></td>\n",
       "    </tr>\n",
       "    <tr>\n",
       "      <th>1</th>\n",
       "      <td>palmer</td>\n",
       "      <td></td>\n",
       "      <td></td>\n",
       "      <td></td>\n",
       "      <td></td>\n",
       "      <td></td>\n",
       "      <td></td>\n",
       "    </tr>\n",
       "    <tr>\n",
       "      <th>2</th>\n",
       "      <td>ranong</td>\n",
       "      <td></td>\n",
       "      <td></td>\n",
       "      <td></td>\n",
       "      <td></td>\n",
       "      <td></td>\n",
       "      <td></td>\n",
       "    </tr>\n",
       "    <tr>\n",
       "      <th>3</th>\n",
       "      <td>hidalgo</td>\n",
       "      <td></td>\n",
       "      <td></td>\n",
       "      <td></td>\n",
       "      <td></td>\n",
       "      <td></td>\n",
       "      <td></td>\n",
       "    </tr>\n",
       "    <tr>\n",
       "      <th>4</th>\n",
       "      <td>kavaratti</td>\n",
       "      <td></td>\n",
       "      <td></td>\n",
       "      <td></td>\n",
       "      <td></td>\n",
       "      <td></td>\n",
       "      <td></td>\n",
       "    </tr>\n",
       "  </tbody>\n",
       "</table>\n",
       "</div>"
      ],
      "text/plain": [
       "        City Latitude Longitude Temperature Humidity Cloudiness Wind_Speed\n",
       "0    ushuaia                                                              \n",
       "1     palmer                                                              \n",
       "2     ranong                                                              \n",
       "3    hidalgo                                                              \n",
       "4  kavaratti                                                              "
      ]
     },
     "execution_count": 8,
     "metadata": {},
     "output_type": "execute_result"
    }
   ],
   "source": [
    "cities_df[\"Latitude\"] = \"\"\n",
    "cities_df[\"Longitude\"] = \"\"\n",
    "cities_df[\"Temperature\"] = \"\"\n",
    "cities_df[\"Humidity\"] = \"\"\n",
    "cities_df[\"Cloudiness\"] = \"\"\n",
    "cities_df[\"Wind_Speed\"] = \"\"\n",
    "cities_df.head()"
   ]
  },
  {
   "cell_type": "code",
   "execution_count": null,
   "metadata": {},
   "outputs": [],
   "source": []
  },
  {
   "cell_type": "markdown",
   "metadata": {},
   "source": [
    "### Perform API Calls\n",
    "* Perform a weather check on each city using a series of successive API calls.\n",
    "* Include a print log of each city as it'sbeing processed (with the city number and city name).\n"
   ]
  },
  {
   "cell_type": "code",
   "execution_count": 9,
   "metadata": {},
   "outputs": [
    {
     "name": "stderr",
     "output_type": "stream",
     "text": [
      "C:\\Users\\Kathleen\\Anaconda3\\envs\\PythonData\\lib\\site-packages\\ipykernel_launcher.py:15: FutureWarning: set_value is deprecated and will be removed in a future release. Please use .at[] or .iat[] accessors instead\n",
      "  from ipykernel import kernelapp as app\n",
      "C:\\Users\\Kathleen\\Anaconda3\\envs\\PythonData\\lib\\site-packages\\ipykernel_launcher.py:16: FutureWarning: set_value is deprecated and will be removed in a future release. Please use .at[] or .iat[] accessors instead\n",
      "  app.launch_new_instance()\n",
      "C:\\Users\\Kathleen\\Anaconda3\\envs\\PythonData\\lib\\site-packages\\ipykernel_launcher.py:17: FutureWarning: set_value is deprecated and will be removed in a future release. Please use .at[] or .iat[] accessors instead\n",
      "C:\\Users\\Kathleen\\Anaconda3\\envs\\PythonData\\lib\\site-packages\\ipykernel_launcher.py:18: FutureWarning: set_value is deprecated and will be removed in a future release. Please use .at[] or .iat[] accessors instead\n",
      "C:\\Users\\Kathleen\\Anaconda3\\envs\\PythonData\\lib\\site-packages\\ipykernel_launcher.py:19: FutureWarning: set_value is deprecated and will be removed in a future release. Please use .at[] or .iat[] accessors instead\n",
      "C:\\Users\\Kathleen\\Anaconda3\\envs\\PythonData\\lib\\site-packages\\ipykernel_launcher.py:20: FutureWarning: set_value is deprecated and will be removed in a future release. Please use .at[] or .iat[] accessors instead\n",
      "C:\\Users\\Kathleen\\Anaconda3\\envs\\PythonData\\lib\\site-packages\\ipykernel_launcher.py:21: FutureWarning: set_value is deprecated and will be removed in a future release. Please use .at[] or .iat[] accessors instead\n"
     ]
    },
    {
     "name": "stdout",
     "output_type": "stream",
     "text": [
      "Processing Record city number: 1 City Name:ushuaia\n",
      "{'coord': {'lon': -68.31, 'lat': -54.81}, 'weather': [{'id': 521, 'main': 'Rain', 'description': 'shower rain', 'icon': '09d'}], 'base': 'stations', 'main': {'temp': 49.21, 'pressure': 988, 'humidity': 57, 'temp_min': 48.2, 'temp_max': 50}, 'visibility': 10000, 'wind': {'speed': 18.34, 'deg': 360}, 'clouds': {'all': 75}, 'dt': 1538848800, 'sys': {'type': 1, 'id': 4754, 'message': 0.0038, 'country': 'AR', 'sunrise': 1538819044, 'sunset': 1538866760}, 'id': 3833367, 'name': 'Ushuaia', 'cod': 200}\n",
      "https://api.openweathermap.org/data/2.5/weather?&q=ushuaia&appid=c1381b113bd44611abefbe0ab64c91ea&units=imperial\n",
      "Processing Record city number: 2 City Name:palmer\n",
      "{'coord': {'lon': 139.16, 'lat': -34.85}, 'weather': [{'id': 800, 'main': 'Clear', 'description': 'clear sky', 'icon': '01n'}], 'base': 'stations', 'main': {'temp': 59, 'pressure': 1017, 'humidity': 72, 'temp_min': 59, 'temp_max': 59}, 'visibility': 10000, 'wind': {'speed': 10.29, 'deg': 40}, 'clouds': {'all': 0}, 'dt': 1538850600, 'sys': {'type': 1, 'id': 8204, 'message': 0.0061, 'country': 'AU', 'sunrise': 1538770360, 'sunset': 1538815838}, 'id': 2067070, 'name': 'Palmer', 'cod': 200}\n",
      "https://api.openweathermap.org/data/2.5/weather?&q=palmer&appid=c1381b113bd44611abefbe0ab64c91ea&units=imperial\n",
      "Processing Record city number: 3 City Name:ranong\n",
      "{'coord': {'lon': 98.62, 'lat': 9.96}, 'weather': [{'id': 803, 'main': 'Clouds', 'description': 'broken clouds', 'icon': '04n'}], 'base': 'stations', 'main': {'temp': 77, 'pressure': 1011, 'humidity': 100, 'temp_min': 77, 'temp_max': 77}, 'visibility': 9000, 'wind': {'speed': 6.96, 'deg': 76.502}, 'clouds': {'all': 75}, 'dt': 1538848800, 'sys': {'type': 1, 'id': 7958, 'message': 0.003, 'country': 'TH', 'sunrise': 1538781235, 'sunset': 1538824377}, 'id': 1150965, 'name': 'Ranong', 'cod': 200}\n",
      "https://api.openweathermap.org/data/2.5/weather?&q=ranong&appid=c1381b113bd44611abefbe0ab64c91ea&units=imperial\n",
      "Processing Record city number: 4 City Name:hidalgo\n",
      "{'coord': {'lon': -98.26, 'lat': 26.1}, 'weather': [{'id': 802, 'main': 'Clouds', 'description': 'scattered clouds', 'icon': '03d'}], 'base': 'stations', 'main': {'temp': 92.37, 'pressure': 1012, 'humidity': 52, 'temp_min': 89.96, 'temp_max': 93.92}, 'visibility': 16093, 'wind': {'speed': 9.17, 'deg': 160}, 'clouds': {'all': 40}, 'dt': 1538849700, 'sys': {'type': 1, 'id': 2603, 'message': 0.0032, 'country': 'US', 'sunrise': 1538828883, 'sunset': 1538871198}, 'id': 4697442, 'name': 'Hidalgo', 'cod': 200}\n",
      "https://api.openweathermap.org/data/2.5/weather?&q=hidalgo&appid=c1381b113bd44611abefbe0ab64c91ea&units=imperial\n",
      "Processing Record city number: 5 City Name:kavaratti\n",
      "{'coord': {'lon': 72.64, 'lat': 10.57}, 'weather': [{'id': 500, 'main': 'Rain', 'description': 'light rain', 'icon': '10n'}], 'base': 'stations', 'main': {'temp': 78.86, 'pressure': 1021.61, 'humidity': 100, 'temp_min': 78.86, 'temp_max': 78.86, 'sea_level': 1021.72, 'grnd_level': 1021.61}, 'wind': {'speed': 3.94, 'deg': 154.502}, 'rain': {'3h': 0.9275}, 'clouds': {'all': 24}, 'dt': 1538852384, 'sys': {'message': 0.0037, 'country': 'IN', 'sunrise': 1538787483, 'sunset': 1538830596}, 'id': 1267390, 'name': 'Kavaratti', 'cod': 200}\n",
      "https://api.openweathermap.org/data/2.5/weather?&q=kavaratti&appid=c1381b113bd44611abefbe0ab64c91ea&units=imperial\n",
      "Processing Record city number: 6 City Name:kalmunai\n",
      "{'coord': {'lon': 81.82, 'lat': 7.42}, 'weather': [{'id': 500, 'main': 'Rain', 'description': 'light rain', 'icon': '10n'}], 'base': 'stations', 'main': {'temp': 74.45, 'pressure': 1007.18, 'humidity': 100, 'temp_min': 74.45, 'temp_max': 74.45, 'sea_level': 1022.57, 'grnd_level': 1007.18}, 'wind': {'speed': 3.83, 'deg': 278.002}, 'rain': {'3h': 0.235}, 'clouds': {'all': 56}, 'dt': 1538852384, 'sys': {'message': 0.0057, 'country': 'LK', 'sunrise': 1538785210, 'sunset': 1538828466}, 'id': 1242110, 'name': 'Kalmunai', 'cod': 200}\n",
      "https://api.openweathermap.org/data/2.5/weather?&q=kalmunai&appid=c1381b113bd44611abefbe0ab64c91ea&units=imperial\n",
      "Processing Record city number: 7 City Name:pangnirtung\n",
      "{'coord': {'lon': -65.72, 'lat': 66.15}, 'weather': [{'id': 801, 'main': 'Clouds', 'description': 'few clouds', 'icon': '02d'}], 'base': 'stations', 'main': {'temp': 28.4, 'pressure': 993, 'humidity': 58, 'temp_min': 28.4, 'temp_max': 28.4}, 'visibility': 24140, 'wind': {'speed': 17.22, 'deg': 280}, 'clouds': {'all': 20}, 'dt': 1538848800, 'sys': {'type': 1, 'id': 3605, 'message': 0.0031, 'country': 'CA', 'sunrise': 1538823154, 'sunset': 1538861239}, 'id': 6096551, 'name': 'Pangnirtung', 'cod': 200}\n",
      "https://api.openweathermap.org/data/2.5/weather?&q=pangnirtung&appid=c1381b113bd44611abefbe0ab64c91ea&units=imperial\n",
      "Processing Record city number: 8 City Name:saskylakh\n",
      "{'coord': {'lon': 114.09, 'lat': 71.97}, 'weather': [{'id': 500, 'main': 'Rain', 'description': 'light rain', 'icon': '10n'}], 'base': 'stations', 'main': {'temp': 38.36, 'pressure': 1014.39, 'humidity': 93, 'temp_min': 38.36, 'temp_max': 38.36, 'sea_level': 1026.06, 'grnd_level': 1014.39}, 'wind': {'speed': 10.98, 'deg': 234.002}, 'rain': {'3h': 0.435}, 'clouds': {'all': 92}, 'dt': 1538852385, 'sys': {'message': 0.0032, 'country': 'RU', 'sunrise': 1538780805, 'sunset': 1538817266}, 'id': 2017155, 'name': 'Saskylakh', 'cod': 200}\n",
      "https://api.openweathermap.org/data/2.5/weather?&q=saskylakh&appid=c1381b113bd44611abefbe0ab64c91ea&units=imperial\n",
      "Processing Record city number: 9 City Name:yumen\n",
      "{'coord': {'lon': 97.04, 'lat': 40.29}, 'weather': [{'id': 800, 'main': 'Clear', 'description': 'clear sky', 'icon': '01n'}], 'base': 'stations', 'main': {'temp': 28.73, 'pressure': 856, 'humidity': 59, 'temp_min': 28.73, 'temp_max': 28.73, 'sea_level': 1040.93, 'grnd_level': 856}, 'wind': {'speed': 3.94, 'deg': 65.502}, 'clouds': {'all': 0}, 'dt': 1538852385, 'sys': {'message': 0.0144, 'country': 'CN', 'sunrise': 1538782414, 'sunset': 1538823926}, 'id': 1528998, 'name': 'Yumen', 'cod': 200}\n",
      "https://api.openweathermap.org/data/2.5/weather?&q=yumen&appid=c1381b113bd44611abefbe0ab64c91ea&units=imperial\n",
      "Processing Record city number: 10 City Name:cuiaba\n",
      "{'coord': {'lon': -56.1, 'lat': -15.6}, 'weather': [{'id': 501, 'main': 'Rain', 'description': 'moderate rain', 'icon': '10d'}], 'base': 'stations', 'main': {'temp': 84.53, 'pressure': 998.18, 'humidity': 79, 'temp_min': 84.53, 'temp_max': 84.53, 'sea_level': 1022.29, 'grnd_level': 998.18}, 'wind': {'speed': 3.38, 'deg': 174.502}, 'rain': {'3h': 3.8575}, 'clouds': {'all': 36}, 'dt': 1538852386, 'sys': {'message': 0.0029, 'country': 'BR', 'sunrise': 1538817764, 'sunset': 1538862120}, 'id': 3465038, 'name': 'Cuiaba', 'cod': 200}\n",
      "https://api.openweathermap.org/data/2.5/weather?&q=cuiaba&appid=c1381b113bd44611abefbe0ab64c91ea&units=imperial\n",
      "Processing Record city number: 11 City Name:albany\n",
      "{'coord': {'lon': -73.75, 'lat': 42.65}, 'weather': [{'id': 701, 'main': 'Mist', 'description': 'mist', 'icon': '50d'}], 'base': 'stations', 'main': {'temp': 60.33, 'pressure': 1020, 'humidity': 77, 'temp_min': 57.02, 'temp_max': 62.96}, 'visibility': 16093, 'wind': {'speed': 11.41, 'deg': 160, 'gust': 8.7}, 'clouds': {'all': 90}, 'dt': 1538848560, 'sys': {'type': 1, 'id': 2088, 'message': 0.004, 'country': 'US', 'sunrise': 1538823520, 'sunset': 1538864780}, 'id': 5106834, 'name': 'Albany', 'cod': 200}\n",
      "https://api.openweathermap.org/data/2.5/weather?&q=albany&appid=c1381b113bd44611abefbe0ab64c91ea&units=imperial\n",
      "Processing Record city number: 12 City Name:hermanus\n",
      "{'coord': {'lon': 19.24, 'lat': -34.42}, 'weather': [{'id': 800, 'main': 'Clear', 'description': 'clear sky', 'icon': '01n'}], 'base': 'stations', 'main': {'temp': 64.28, 'pressure': 993.88, 'humidity': 73, 'temp_min': 64.28, 'temp_max': 64.28, 'sea_level': 1033.19, 'grnd_level': 993.88}, 'wind': {'speed': 8.3, 'deg': 100.502}, 'clouds': {'all': 0}, 'dt': 1538852386, 'sys': {'message': 0.0029, 'country': 'ZA', 'sunrise': 1538799129, 'sunset': 1538844619}, 'id': 3366880, 'name': 'Hermanus', 'cod': 200}\n",
      "https://api.openweathermap.org/data/2.5/weather?&q=hermanus&appid=c1381b113bd44611abefbe0ab64c91ea&units=imperial\n",
      "Processing Record city number: 13 City Name:shillong\n",
      "{'coord': {'lon': 91.88, 'lat': 25.58}, 'weather': [{'id': 701, 'main': 'Mist', 'description': 'mist', 'icon': '50n'}], 'base': 'stations', 'main': {'temp': 80.6, 'pressure': 1011, 'humidity': 94, 'temp_min': 80.6, 'temp_max': 80.6}, 'visibility': 3000, 'wind': {'speed': 2.59, 'deg': 178.002}, 'clouds': {'all': 40}, 'dt': 1538850600, 'sys': {'type': 1, 'id': 7787, 'message': 0.0037, 'country': 'IN', 'sunrise': 1538783221, 'sunset': 1538825611}, 'id': 1256523, 'name': 'Shillong', 'cod': 200}\n",
      "https://api.openweathermap.org/data/2.5/weather?&q=shillong&appid=c1381b113bd44611abefbe0ab64c91ea&units=imperial\n"
     ]
    },
    {
     "name": "stdout",
     "output_type": "stream",
     "text": [
      "Processing Record city number: 14 City Name:kuching\n",
      "{'coord': {'lon': 110.34, 'lat': 1.56}, 'weather': [{'id': 803, 'main': 'Clouds', 'description': 'broken clouds', 'icon': '04n'}], 'base': 'stations', 'main': {'temp': 77, 'pressure': 1010, 'humidity': 88, 'temp_min': 77, 'temp_max': 77}, 'visibility': 10000, 'wind': {'speed': 3.36, 'deg': 240}, 'clouds': {'all': 75}, 'dt': 1538850600, 'sys': {'type': 1, 'id': 8110, 'message': 0.0036, 'country': 'MY', 'sunrise': 1538778236, 'sunset': 1538821758}, 'id': 1735634, 'name': 'Kuching', 'cod': 200}\n",
      "https://api.openweathermap.org/data/2.5/weather?&q=kuching&appid=c1381b113bd44611abefbe0ab64c91ea&units=imperial\n",
      "Processing Record city number: 15 City Name:hilo\n",
      "{'coord': {'lon': -155.08, 'lat': 19.71}, 'weather': [{'id': 701, 'main': 'Mist', 'description': 'mist', 'icon': '50d'}], 'base': 'stations', 'main': {'temp': 68.34, 'pressure': 1016, 'humidity': 93, 'temp_min': 64.58, 'temp_max': 75.02}, 'visibility': 9656, 'wind': {'speed': 8.08, 'deg': 97.502}, 'clouds': {'all': 90}, 'dt': 1538850780, 'sys': {'type': 1, 'id': 818, 'message': 0.0032, 'country': 'US', 'sunrise': 1538842357, 'sunset': 1538884997}, 'id': 5855927, 'name': 'Hilo', 'cod': 200}\n",
      "https://api.openweathermap.org/data/2.5/weather?&q=hilo&appid=c1381b113bd44611abefbe0ab64c91ea&units=imperial\n",
      "Processing Record city number: 16 City Name:cidreira\n",
      "{'coord': {'lon': -50.22, 'lat': -30.17}, 'weather': [{'id': 802, 'main': 'Clouds', 'description': 'scattered clouds', 'icon': '03d'}], 'base': 'stations', 'main': {'temp': 65.99, 'pressure': 1022.26, 'humidity': 73, 'temp_min': 65.99, 'temp_max': 65.99, 'sea_level': 1032.34, 'grnd_level': 1022.26}, 'wind': {'speed': 14.9, 'deg': 76.002}, 'clouds': {'all': 36}, 'dt': 1538852387, 'sys': {'message': 0.0034, 'country': 'BR', 'sunrise': 1538815932, 'sunset': 1538861145}, 'id': 3466165, 'name': 'Cidreira', 'cod': 200}\n",
      "https://api.openweathermap.org/data/2.5/weather?&q=cidreira&appid=c1381b113bd44611abefbe0ab64c91ea&units=imperial\n",
      "Processing Record city number: 17 City Name:rikitea\n",
      "{'coord': {'lon': -134.97, 'lat': -23.12}, 'weather': [{'id': 502, 'main': 'Rain', 'description': 'heavy intensity rain', 'icon': '10d'}], 'base': 'stations', 'main': {'temp': 67.52, 'pressure': 1030.36, 'humidity': 100, 'temp_min': 67.52, 'temp_max': 67.52, 'sea_level': 1030.48, 'grnd_level': 1030.36}, 'wind': {'speed': 20.04, 'deg': 111.002}, 'rain': {'3h': 19.2625}, 'clouds': {'all': 100}, 'dt': 1538852387, 'sys': {'message': 0.0034, 'country': 'PF', 'sunrise': 1538836475, 'sunset': 1538881265}, 'id': 4030556, 'name': 'Rikitea', 'cod': 200}\n",
      "https://api.openweathermap.org/data/2.5/weather?&q=rikitea&appid=c1381b113bd44611abefbe0ab64c91ea&units=imperial\n",
      "Processing Record city number: 18 City Name:pedasi\n",
      "{'coord': {'lon': -80.03, 'lat': 7.53}, 'weather': [{'id': 800, 'main': 'Clear', 'description': 'clear sky', 'icon': '01d'}], 'base': 'stations', 'main': {'temp': 81.11, 'pressure': 1024.53, 'humidity': 100, 'temp_min': 81.11, 'temp_max': 81.11, 'sea_level': 1024.6, 'grnd_level': 1024.53}, 'wind': {'speed': 8.63, 'deg': 145.502}, 'clouds': {'all': 0}, 'dt': 1538852387, 'sys': {'message': 0.0084, 'country': 'PA', 'sunrise': 1538824054, 'sunset': 1538867295}, 'id': 3703239, 'name': 'Pedasi', 'cod': 200}\n",
      "https://api.openweathermap.org/data/2.5/weather?&q=pedasi&appid=c1381b113bd44611abefbe0ab64c91ea&units=imperial\n",
      "City not found, skipping...\n",
      "City not found, skipping...\n",
      "Processing Record city number: 19 City Name:kununurra\n",
      "{'coord': {'lon': 128.74, 'lat': -15.77}, 'weather': [{'id': 800, 'main': 'Clear', 'description': 'clear sky', 'icon': '01n'}], 'base': 'stations', 'main': {'temp': 75.2, 'pressure': 1010, 'humidity': 69, 'temp_min': 75.2, 'temp_max': 75.2}, 'visibility': 10000, 'wind': {'speed': 2.59, 'deg': 76.502}, 'clouds': {'all': 0}, 'dt': 1538850600, 'sys': {'type': 1, 'id': 8215, 'message': 0.0034, 'country': 'AU', 'sunrise': 1538773420, 'sunset': 1538817758}, 'id': 2068110, 'name': 'Kununurra', 'cod': 200}\n",
      "https://api.openweathermap.org/data/2.5/weather?&q=kununurra&appid=c1381b113bd44611abefbe0ab64c91ea&units=imperial\n",
      "Processing Record city number: 20 City Name:bethel\n",
      "{'coord': {'lon': -161.76, 'lat': 60.79}, 'weather': [{'id': 500, 'main': 'Rain', 'description': 'light rain', 'icon': '10d'}], 'base': 'stations', 'main': {'temp': 46.04, 'pressure': 1005, 'humidity': 85, 'temp_min': 46.04, 'temp_max': 46.04}, 'visibility': 16093, 'wind': {'speed': 5.82, 'deg': 80}, 'clouds': {'all': 90}, 'dt': 1538848380, 'sys': {'type': 1, 'id': 28, 'message': 0.0034, 'country': 'US', 'sunrise': 1538845695, 'sunset': 1538884806}, 'id': 5880568, 'name': 'Bethel', 'cod': 200}\n",
      "https://api.openweathermap.org/data/2.5/weather?&q=bethel&appid=c1381b113bd44611abefbe0ab64c91ea&units=imperial\n",
      "Processing Record city number: 21 City Name:kapaa\n",
      "{'coord': {'lon': -159.32, 'lat': 22.08}, 'weather': [{'id': 803, 'main': 'Clouds', 'description': 'broken clouds', 'icon': '04d'}], 'base': 'stations', 'main': {'temp': 77.79, 'pressure': 1015, 'humidity': 78, 'temp_min': 75.02, 'temp_max': 80.06}, 'visibility': 16093, 'wind': {'speed': 4.7, 'deg': 270}, 'clouds': {'all': 75}, 'dt': 1538848560, 'sys': {'type': 1, 'id': 833, 'message': 0.004, 'country': 'US', 'sunrise': 1538843435, 'sunset': 1538885952}, 'id': 5848280, 'name': 'Kapaa', 'cod': 200}\n",
      "https://api.openweathermap.org/data/2.5/weather?&q=kapaa&appid=c1381b113bd44611abefbe0ab64c91ea&units=imperial\n",
      "Processing Record city number: 22 City Name:labuhan\n",
      "{'coord': {'lon': 115.51, 'lat': -2.54}, 'weather': [{'id': 801, 'main': 'Clouds', 'description': 'few clouds', 'icon': '02n'}], 'base': 'stations', 'main': {'temp': 71.66, 'pressure': 997.85, 'humidity': 97, 'temp_min': 71.66, 'temp_max': 71.66, 'sea_level': 1023.63, 'grnd_level': 997.85}, 'wind': {'speed': 1.7, 'deg': 151.502}, 'clouds': {'all': 20}, 'dt': 1538852389, 'sys': {'message': 0.0034, 'country': 'ID', 'sunrise': 1538776904, 'sunset': 1538820612}, 'id': 1641899, 'name': 'Labuhan', 'cod': 200}\n",
      "https://api.openweathermap.org/data/2.5/weather?&q=labuhan&appid=c1381b113bd44611abefbe0ab64c91ea&units=imperial\n",
      "City not found, skipping...\n",
      "Processing Record city number: 23 City Name:mlonggo\n",
      "{'coord': {'lon': 110.7, 'lat': -6.53}, 'weather': [{'id': 800, 'main': 'Clear', 'description': 'clear sky', 'icon': '01n'}], 'base': 'stations', 'main': {'temp': 78.14, 'pressure': 1013.83, 'humidity': 96, 'temp_min': 78.14, 'temp_max': 78.14, 'sea_level': 1024.48, 'grnd_level': 1013.83}, 'wind': {'speed': 7.07, 'deg': 110.002}, 'clouds': {'all': 0}, 'dt': 1538852389, 'sys': {'message': 0.0034, 'country': 'ID', 'sunrise': 1538777968, 'sunset': 1538821860}, 'id': 1635164, 'name': 'Mlonggo', 'cod': 200}\n",
      "https://api.openweathermap.org/data/2.5/weather?&q=mlonggo&appid=c1381b113bd44611abefbe0ab64c91ea&units=imperial\n",
      "Processing Record city number: 24 City Name:pevek\n",
      "{'coord': {'lon': 170.27, 'lat': 69.7}, 'weather': [{'id': 803, 'main': 'Clouds', 'description': 'broken clouds', 'icon': '04n'}], 'base': 'stations', 'main': {'temp': 35.12, 'pressure': 1021.61, 'humidity': 100, 'temp_min': 35.12, 'temp_max': 35.12, 'sea_level': 1028.98, 'grnd_level': 1021.61}, 'wind': {'speed': 2.59, 'deg': 91.002}, 'clouds': {'all': 80}, 'dt': 1538852389, 'sys': {'message': 0.011, 'country': 'RU', 'sunrise': 1538766873, 'sunset': 1538804251}, 'id': 2122090, 'name': 'Pevek', 'cod': 200}\n",
      "https://api.openweathermap.org/data/2.5/weather?&q=pevek&appid=c1381b113bd44611abefbe0ab64c91ea&units=imperial\n",
      "Processing Record city number: 25 City Name:fairbanks\n",
      "{'coord': {'lon': -147.72, 'lat': 64.84}, 'weather': [{'id': 804, 'main': 'Clouds', 'description': 'overcast clouds', 'icon': '04d'}], 'base': 'stations', 'main': {'temp': 36.41, 'pressure': 1013, 'humidity': 16, 'temp_min': 34.88, 'temp_max': 37.94}, 'visibility': 14484, 'wind': {'speed': 3.6, 'deg': 10.502}, 'clouds': {'all': 90}, 'dt': 1538848680, 'sys': {'type': 1, 'id': 63, 'message': 0.0037, 'country': 'US', 'sunrise': 1538842721, 'sunset': 1538881029}, 'id': 5861897, 'name': 'Fairbanks', 'cod': 200}\n",
      "https://api.openweathermap.org/data/2.5/weather?&q=fairbanks&appid=c1381b113bd44611abefbe0ab64c91ea&units=imperial\n",
      "Processing Record city number: 26 City Name:kavieng\n",
      "{'coord': {'lon': 150.8, 'lat': -2.57}, 'weather': [{'id': 501, 'main': 'Rain', 'description': 'moderate rain', 'icon': '10n'}], 'base': 'stations', 'main': {'temp': 82.82, 'pressure': 1021.77, 'humidity': 100, 'temp_min': 82.82, 'temp_max': 82.82, 'sea_level': 1022.94, 'grnd_level': 1021.77}, 'wind': {'speed': 5.73, 'deg': 131.502}, 'rain': {'3h': 3.4025}, 'clouds': {'all': 32}, 'dt': 1538852390, 'sys': {'message': 0.0046, 'country': 'PG', 'sunrise': 1538768436, 'sunset': 1538812145}, 'id': 2094342, 'name': 'Kavieng', 'cod': 200}\n",
      "https://api.openweathermap.org/data/2.5/weather?&q=kavieng&appid=c1381b113bd44611abefbe0ab64c91ea&units=imperial\n"
     ]
    },
    {
     "name": "stdout",
     "output_type": "stream",
     "text": [
      "Processing Record city number: 27 City Name:chokurdakh\n",
      "{'coord': {'lon': 147.9, 'lat': 70.62}, 'weather': [{'id': 803, 'main': 'Clouds', 'description': 'broken clouds', 'icon': '04n'}], 'base': 'stations', 'main': {'temp': 27.11, 'pressure': 1039.6, 'humidity': 93, 'temp_min': 27.11, 'temp_max': 27.11, 'sea_level': 1041.7, 'grnd_level': 1039.6}, 'wind': {'speed': 8.08, 'deg': 317.002}, 'clouds': {'all': 64}, 'dt': 1538852390, 'sys': {'message': 0.0041, 'country': 'RU', 'sunrise': 1538772411, 'sunset': 1538809444}, 'id': 2126123, 'name': 'Chokurdakh', 'cod': 200}\n",
      "https://api.openweathermap.org/data/2.5/weather?&q=chokurdakh&appid=c1381b113bd44611abefbe0ab64c91ea&units=imperial\n",
      "Processing Record city number: 28 City Name:bredasdorp\n",
      "{'coord': {'lon': 20.04, 'lat': -34.53}, 'weather': [{'id': 804, 'main': 'Clouds', 'description': 'overcast clouds', 'icon': '04n'}], 'base': 'stations', 'main': {'temp': 66.2, 'pressure': 1022, 'humidity': 82, 'temp_min': 66.2, 'temp_max': 66.2}, 'wind': {'speed': 10.29, 'deg': 160}, 'clouds': {'all': 88}, 'dt': 1538848800, 'sys': {'type': 1, 'id': 6591, 'message': 0.004, 'country': 'ZA', 'sunrise': 1538798933, 'sunset': 1538844431}, 'id': 1015776, 'name': 'Bredasdorp', 'cod': 200}\n",
      "https://api.openweathermap.org/data/2.5/weather?&q=bredasdorp&appid=c1381b113bd44611abefbe0ab64c91ea&units=imperial\n",
      "Processing Record city number: 29 City Name:saint-philippe\n",
      "{'coord': {'lon': -73.48, 'lat': 45.36}, 'weather': [{'id': 500, 'main': 'Rain', 'description': 'light rain', 'icon': '10d'}], 'base': 'stations', 'main': {'temp': 51.76, 'pressure': 1018, 'humidity': 76, 'temp_min': 48.2, 'temp_max': 55.4}, 'visibility': 8047, 'wind': {'speed': 6.93, 'deg': 60}, 'clouds': {'all': 90}, 'dt': 1538850960, 'sys': {'type': 1, 'id': 3851, 'message': 0.0081, 'country': 'CA', 'sunrise': 1538823564, 'sunset': 1538864603}, 'id': 6138908, 'name': 'Saint-Philippe', 'cod': 200}\n",
      "https://api.openweathermap.org/data/2.5/weather?&q=saint-philippe&appid=c1381b113bd44611abefbe0ab64c91ea&units=imperial\n",
      "Processing Record city number: 30 City Name:granadilla de abona\n",
      "{'coord': {'lon': -16.58, 'lat': 28.12}, 'weather': [{'id': 801, 'main': 'Clouds', 'description': 'few clouds', 'icon': '02d'}], 'base': 'stations', 'main': {'temp': 72.12, 'pressure': 1016, 'humidity': 78, 'temp_min': 68, 'temp_max': 75.2}, 'visibility': 10000, 'wind': {'speed': 6.93, 'deg': 230}, 'clouds': {'all': 20}, 'dt': 1538850600, 'sys': {'type': 1, 'id': 5518, 'message': 0.0036, 'country': 'ES', 'sunrise': 1538809327, 'sunset': 1538851553}, 'id': 2517111, 'name': 'Granadilla de Abona', 'cod': 200}\n",
      "https://api.openweathermap.org/data/2.5/weather?&q=granadilla de abona&appid=c1381b113bd44611abefbe0ab64c91ea&units=imperial\n",
      "Processing Record city number: 31 City Name:busselton\n",
      "{'coord': {'lon': 115.35, 'lat': -33.64}, 'weather': [{'id': 803, 'main': 'Clouds', 'description': 'broken clouds', 'icon': '04n'}], 'base': 'stations', 'main': {'temp': 57.71, 'pressure': 1032.63, 'humidity': 100, 'temp_min': 57.71, 'temp_max': 57.71, 'sea_level': 1033.72, 'grnd_level': 1032.63}, 'wind': {'speed': 17.02, 'deg': 134.002}, 'clouds': {'all': 64}, 'dt': 1538852391, 'sys': {'message': 0.0109, 'country': 'AU', 'sunrise': 1538776112, 'sunset': 1538821512}, 'id': 2075265, 'name': 'Busselton', 'cod': 200}\n",
      "https://api.openweathermap.org/data/2.5/weather?&q=busselton&appid=c1381b113bd44611abefbe0ab64c91ea&units=imperial\n",
      "Processing Record city number: 32 City Name:kongolo\n",
      "{'coord': {'lon': 27, 'lat': -5.39}, 'weather': [{'id': 802, 'main': 'Clouds', 'description': 'scattered clouds', 'icon': '03n'}], 'base': 'stations', 'main': {'temp': 73.55, 'pressure': 949.46, 'humidity': 92, 'temp_min': 73.55, 'temp_max': 73.55, 'sea_level': 1022.13, 'grnd_level': 949.46}, 'wind': {'speed': 2.48, 'deg': 321.502}, 'clouds': {'all': 32}, 'dt': 1538852392, 'sys': {'message': 0.0253, 'country': 'CD', 'sunrise': 1538798076, 'sunset': 1538841919}, 'id': 212360, 'name': 'Kongolo', 'cod': 200}\n",
      "https://api.openweathermap.org/data/2.5/weather?&q=kongolo&appid=c1381b113bd44611abefbe0ab64c91ea&units=imperial\n",
      "City not found, skipping...\n",
      "Processing Record city number: 33 City Name:westport\n",
      "{'coord': {'lon': -9.52, 'lat': 53.8}, 'weather': [{'id': 800, 'main': 'Clear', 'description': 'clear sky', 'icon': '01d'}], 'base': 'stations', 'main': {'temp': 46.4, 'pressure': 1022, 'humidity': 75, 'temp_min': 46.4, 'temp_max': 46.4}, 'visibility': 10000, 'wind': {'speed': 5.82, 'deg': 290}, 'clouds': {'all': 0}, 'dt': 1538848800, 'sys': {'type': 1, 'id': 5238, 'message': 0.0032, 'country': 'IE', 'sunrise': 1538808609, 'sunset': 1538848848}, 'id': 2960970, 'name': 'Westport', 'cod': 200}\n",
      "https://api.openweathermap.org/data/2.5/weather?&q=westport&appid=c1381b113bd44611abefbe0ab64c91ea&units=imperial\n",
      "Processing Record city number: 34 City Name:lethbridge\n",
      "{'coord': {'lon': -112.85, 'lat': 49.69}, 'weather': [{'id': 801, 'main': 'Clouds', 'description': 'few clouds', 'icon': '02d'}], 'base': 'stations', 'main': {'temp': 44.6, 'pressure': 1016, 'humidity': 83, 'temp_min': 44.6, 'temp_max': 44.6}, 'visibility': 96558, 'wind': {'speed': 6.93, 'deg': 270}, 'clouds': {'all': 20}, 'dt': 1538848800, 'sys': {'type': 1, 'id': 3184, 'message': 0.0042, 'country': 'CA', 'sunrise': 1538833218, 'sunset': 1538873835}, 'id': 6053154, 'name': 'Lethbridge', 'cod': 200}\n",
      "https://api.openweathermap.org/data/2.5/weather?&q=lethbridge&appid=c1381b113bd44611abefbe0ab64c91ea&units=imperial\n",
      "Processing Record city number: 35 City Name:maldonado\n",
      "{'coord': {'lon': -54.96, 'lat': -34.91}, 'weather': [{'id': 800, 'main': 'Clear', 'description': 'clear sky', 'icon': '01d'}], 'base': 'stations', 'main': {'temp': 62.6, 'pressure': 1018, 'humidity': 63, 'temp_min': 62.6, 'temp_max': 62.6}, 'visibility': 10000, 'wind': {'speed': 14.99, 'deg': 160}, 'clouds': {'all': 0}, 'dt': 1538848800, 'sys': {'type': 1, 'id': 4620, 'message': 0.0043, 'country': 'UY', 'sunrise': 1538816902, 'sunset': 1538862455}, 'id': 3441894, 'name': 'Maldonado', 'cod': 200}\n",
      "https://api.openweathermap.org/data/2.5/weather?&q=maldonado&appid=c1381b113bd44611abefbe0ab64c91ea&units=imperial\n",
      "Processing Record city number: 36 City Name:punta arenas\n",
      "{'coord': {'lon': -70.91, 'lat': -53.16}, 'weather': [{'id': 803, 'main': 'Clouds', 'description': 'broken clouds', 'icon': '04d'}], 'base': 'stations', 'main': {'temp': 55.4, 'pressure': 988, 'humidity': 50, 'temp_min': 55.4, 'temp_max': 55.4}, 'visibility': 10000, 'wind': {'speed': 23.04, 'deg': 280}, 'clouds': {'all': 75}, 'dt': 1538848800, 'sys': {'type': 1, 'id': 4642, 'message': 0.0033, 'country': 'CL', 'sunrise': 1538819791, 'sunset': 1538867255}, 'id': 3874787, 'name': 'Punta Arenas', 'cod': 200}\n",
      "https://api.openweathermap.org/data/2.5/weather?&q=punta arenas&appid=c1381b113bd44611abefbe0ab64c91ea&units=imperial\n",
      "Processing Record city number: 37 City Name:dikson\n",
      "{'coord': {'lon': 80.55, 'lat': 73.51}, 'weather': [{'id': 802, 'main': 'Clouds', 'description': 'scattered clouds', 'icon': '03n'}], 'base': 'stations', 'main': {'temp': 39.08, 'pressure': 1021.77, 'humidity': 97, 'temp_min': 39.08, 'temp_max': 39.08, 'sea_level': 1022.17, 'grnd_level': 1021.77}, 'wind': {'speed': 13.56, 'deg': 231.002}, 'clouds': {'all': 32}, 'dt': 1538852393, 'sys': {'message': 0.0035, 'country': 'RU', 'sunrise': 1538789228, 'sunset': 1538824930}, 'id': 1507390, 'name': 'Dikson', 'cod': 200}\n",
      "https://api.openweathermap.org/data/2.5/weather?&q=dikson&appid=c1381b113bd44611abefbe0ab64c91ea&units=imperial\n",
      "Processing Record city number: 38 City Name:atuona\n",
      "{'coord': {'lon': -139.03, 'lat': -9.8}, 'weather': [{'id': 801, 'main': 'Clouds', 'description': 'few clouds', 'icon': '02d'}], 'base': 'stations', 'main': {'temp': 79.22, 'pressure': 1027.69, 'humidity': 100, 'temp_min': 79.22, 'temp_max': 79.22, 'sea_level': 1027.8, 'grnd_level': 1027.69}, 'wind': {'speed': 8.75, 'deg': 64.502}, 'clouds': {'all': 12}, 'dt': 1538852393, 'sys': {'message': 0.0028, 'country': 'PF', 'sunrise': 1538837804, 'sunset': 1538881873}, 'id': 4020109, 'name': 'Atuona', 'cod': 200}\n",
      "https://api.openweathermap.org/data/2.5/weather?&q=atuona&appid=c1381b113bd44611abefbe0ab64c91ea&units=imperial\n",
      "Processing Record city number: 39 City Name:bluff\n",
      "{'coord': {'lon': 149.07, 'lat': -23.58}, 'weather': [{'id': 800, 'main': 'Clear', 'description': 'clear sky', 'icon': '01n'}], 'base': 'stations', 'main': {'temp': 65.36, 'pressure': 1006.45, 'humidity': 88, 'temp_min': 65.36, 'temp_max': 65.36, 'sea_level': 1029.54, 'grnd_level': 1006.45}, 'wind': {'speed': 7.4, 'deg': 64.002}, 'clouds': {'all': 0}, 'dt': 1538852393, 'sys': {'message': 0.0029, 'country': 'AU', 'sunrise': 1538768338, 'sunset': 1538813091}, 'id': 2175403, 'name': 'Bluff', 'cod': 200}\n",
      "https://api.openweathermap.org/data/2.5/weather?&q=bluff&appid=c1381b113bd44611abefbe0ab64c91ea&units=imperial\n",
      "Processing Record city number: 40 City Name:beringovskiy\n",
      "{'coord': {'lon': 179.32, 'lat': 63.05}, 'weather': [{'id': 500, 'main': 'Rain', 'description': 'light rain', 'icon': '10d'}], 'base': 'stations', 'main': {'temp': 46.01, 'pressure': 1007.42, 'humidity': 99, 'temp_min': 46.01, 'temp_max': 46.01, 'sea_level': 1015.2, 'grnd_level': 1007.42}, 'wind': {'speed': 19.82, 'deg': 63.502}, 'rain': {'3h': 0.3775}, 'clouds': {'all': 88}, 'dt': 1538852394, 'sys': {'message': 0.0031, 'country': 'RU', 'sunrise': 1538763889, 'sunset': 1538802920}, 'id': 2126710, 'name': 'Beringovskiy', 'cod': 200}\n",
      "https://api.openweathermap.org/data/2.5/weather?&q=beringovskiy&appid=c1381b113bd44611abefbe0ab64c91ea&units=imperial\n"
     ]
    },
    {
     "name": "stdout",
     "output_type": "stream",
     "text": [
      "Processing Record city number: 41 City Name:yellowknife\n",
      "{'coord': {'lon': -114.38, 'lat': 62.45}, 'weather': [{'id': 803, 'main': 'Clouds', 'description': 'broken clouds', 'icon': '04d'}], 'base': 'stations', 'main': {'temp': 28.4, 'pressure': 1026, 'humidity': 68, 'temp_min': 28.4, 'temp_max': 28.4}, 'visibility': 24140, 'wind': {'speed': 14.99, 'deg': 110}, 'clouds': {'all': 75}, 'dt': 1538848800, 'sys': {'type': 1, 'id': 3558, 'message': 0.0042, 'country': 'CA', 'sunrise': 1538834454, 'sunset': 1538873304}, 'id': 6185377, 'name': 'Yellowknife', 'cod': 200}\n",
      "https://api.openweathermap.org/data/2.5/weather?&q=yellowknife&appid=c1381b113bd44611abefbe0ab64c91ea&units=imperial\n",
      "Processing Record city number: 42 City Name:genhe\n",
      "{'coord': {'lon': 121.52, 'lat': 50.78}, 'weather': [{'id': 801, 'main': 'Clouds', 'description': 'few clouds', 'icon': '02n'}], 'base': 'stations', 'main': {'temp': 20.09, 'pressure': 909.58, 'humidity': 78, 'temp_min': 20.09, 'temp_max': 20.09, 'sea_level': 1022.05, 'grnd_level': 909.58}, 'wind': {'speed': 2.71, 'deg': 153.002}, 'clouds': {'all': 20}, 'dt': 1538852394, 'sys': {'message': 0.0031, 'country': 'CN', 'sunrise': 1538776962, 'sunset': 1538817614}, 'id': 2037252, 'name': 'Genhe', 'cod': 200}\n",
      "https://api.openweathermap.org/data/2.5/weather?&q=genhe&appid=c1381b113bd44611abefbe0ab64c91ea&units=imperial\n",
      "Processing Record city number: 43 City Name:puerto ayora\n",
      "{'coord': {'lon': -90.35, 'lat': -0.74}, 'weather': [{'id': 801, 'main': 'Clouds', 'description': 'few clouds', 'icon': '02d'}], 'base': 'stations', 'main': {'temp': 78.8, 'pressure': 1013, 'humidity': 57, 'temp_min': 78.8, 'temp_max': 78.8}, 'visibility': 10000, 'wind': {'speed': 19.46, 'deg': 110}, 'clouds': {'all': 20}, 'dt': 1538848800, 'sys': {'type': 1, 'id': 4355, 'message': 0.0033, 'country': 'EC', 'sunrise': 1538826340, 'sunset': 1538869968}, 'id': 3652764, 'name': 'Puerto Ayora', 'cod': 200}\n",
      "https://api.openweathermap.org/data/2.5/weather?&q=puerto ayora&appid=c1381b113bd44611abefbe0ab64c91ea&units=imperial\n",
      "Processing Record city number: 44 City Name:teya\n",
      "{'coord': {'lon': -89.07, 'lat': 21.05}, 'weather': [{'id': 803, 'main': 'Clouds', 'description': 'broken clouds', 'icon': '04d'}], 'base': 'stations', 'main': {'temp': 89.6, 'pressure': 1011, 'humidity': 59, 'temp_min': 89.6, 'temp_max': 89.6}, 'visibility': 11265, 'wind': {'speed': 4.7, 'deg': 70}, 'clouds': {'all': 75}, 'dt': 1538847900, 'sys': {'type': 1, 'id': 3996, 'message': 0.0034, 'country': 'MX', 'sunrise': 1538826545, 'sunset': 1538869130}, 'id': 3526662, 'name': 'Teya', 'cod': 200}\n",
      "https://api.openweathermap.org/data/2.5/weather?&q=teya&appid=c1381b113bd44611abefbe0ab64c91ea&units=imperial\n",
      "Processing Record city number: 45 City Name:cabo san lucas\n",
      "{'coord': {'lon': -109.91, 'lat': 22.89}, 'weather': [{'id': 800, 'main': 'Clear', 'description': 'clear sky', 'icon': '02d'}], 'base': 'stations', 'main': {'temp': 90.54, 'pressure': 1013, 'humidity': 49, 'temp_min': 89.6, 'temp_max': 91.4}, 'visibility': 16093, 'wind': {'speed': 4.7, 'deg': 70}, 'clouds': {'all': 5}, 'dt': 1538848200, 'sys': {'type': 1, 'id': 4016, 'message': 0.0035, 'country': 'MX', 'sunrise': 1538831595, 'sunset': 1538874080}, 'id': 3985710, 'name': 'Cabo San Lucas', 'cod': 200}\n",
      "https://api.openweathermap.org/data/2.5/weather?&q=cabo san lucas&appid=c1381b113bd44611abefbe0ab64c91ea&units=imperial\n",
      "Processing Record city number: 46 City Name:afareaitu\n",
      "{'coord': {'lon': -149.78, 'lat': -17.55}, 'weather': [{'id': 803, 'main': 'Clouds', 'description': 'broken clouds', 'icon': '04d'}], 'base': 'stations', 'main': {'temp': 78.8, 'pressure': 1015, 'humidity': 65, 'temp_min': 78.8, 'temp_max': 78.8}, 'visibility': 10000, 'wind': {'speed': 1.12}, 'clouds': {'all': 75}, 'dt': 1538850600, 'sys': {'type': 1, 'id': 8343, 'message': 0.0033, 'country': 'PF', 'sunrise': 1538840184, 'sunset': 1538884659}, 'id': 4034741, 'name': 'Afareaitu', 'cod': 200}\n",
      "https://api.openweathermap.org/data/2.5/weather?&q=afareaitu&appid=c1381b113bd44611abefbe0ab64c91ea&units=imperial\n",
      "Processing Record city number: 47 City Name:leningradskiy\n",
      "{'coord': {'lon': 178.42, 'lat': 69.38}, 'weather': [{'id': 804, 'main': 'Clouds', 'description': 'overcast clouds', 'icon': '04d'}], 'base': 'stations', 'main': {'temp': 36.02, 'pressure': 1025.42, 'humidity': 98, 'temp_min': 36.02, 'temp_max': 36.02, 'sea_level': 1028.08, 'grnd_level': 1025.42}, 'wind': {'speed': 7.4, 'deg': 296.502}, 'clouds': {'all': 92}, 'dt': 1538852395, 'sys': {'message': 0.0089, 'country': 'RU', 'sunrise': 1538764861, 'sunset': 1538802353}, 'id': 2123814, 'name': 'Leningradskiy', 'cod': 200}\n",
      "https://api.openweathermap.org/data/2.5/weather?&q=leningradskiy&appid=c1381b113bd44611abefbe0ab64c91ea&units=imperial\n",
      "Processing Record city number: 48 City Name:mar del plata\n",
      "{'coord': {'lon': -67.52, 'lat': -46.43}, 'weather': [{'id': 800, 'main': 'Clear', 'description': 'clear sky', 'icon': '01d'}], 'base': 'stations', 'main': {'temp': 66.35, 'pressure': 991.53, 'humidity': 33, 'temp_min': 66.35, 'temp_max': 66.35, 'sea_level': 1012.4, 'grnd_level': 991.53}, 'wind': {'speed': 17.58, 'deg': 269.502}, 'clouds': {'all': 0}, 'dt': 1538852395, 'sys': {'message': 0.0042, 'country': 'AR', 'sunrise': 1538819399, 'sunset': 1538866004}, 'id': 3863379, 'name': 'Mar del Plata', 'cod': 200}\n",
      "https://api.openweathermap.org/data/2.5/weather?&q=mar del plata&appid=c1381b113bd44611abefbe0ab64c91ea&units=imperial\n",
      "Processing Record city number: 49 City Name:barrow\n",
      "{'coord': {'lon': -60.23, 'lat': -38.31}, 'weather': [{'id': 800, 'main': 'Clear', 'description': 'clear sky', 'icon': '02d'}], 'base': 'stations', 'main': {'temp': 72.74, 'pressure': 1014.15, 'humidity': 39, 'temp_min': 72.74, 'temp_max': 72.74, 'sea_level': 1025.9, 'grnd_level': 1014.15}, 'wind': {'speed': 20.71, 'deg': 334.002}, 'clouds': {'all': 8}, 'dt': 1538852396, 'sys': {'message': 0.0039, 'country': 'AR', 'sunrise': 1538818033, 'sunset': 1538863858}, 'id': 3833859, 'name': 'Barrow', 'cod': 200}\n",
      "https://api.openweathermap.org/data/2.5/weather?&q=barrow&appid=c1381b113bd44611abefbe0ab64c91ea&units=imperial\n",
      "Processing Record city number: 50 City Name:alofi\n",
      "{'coord': {'lon': -169.92, 'lat': -19.06}, 'weather': [{'id': 802, 'main': 'Clouds', 'description': 'scattered clouds', 'icon': '03d'}], 'base': 'stations', 'main': {'temp': 68, 'pressure': 1014, 'humidity': 100, 'temp_min': 68, 'temp_max': 68}, 'wind': {'speed': 1.12, 'deg': 140}, 'clouds': {'all': 44}, 'dt': 1538848800, 'sys': {'type': 1, 'id': 8341, 'message': 0.0114, 'country': 'NU', 'sunrise': 1538844973, 'sunset': 1538889536}, 'id': 4036284, 'name': 'Alofi', 'cod': 200}\n",
      "https://api.openweathermap.org/data/2.5/weather?&q=alofi&appid=c1381b113bd44611abefbe0ab64c91ea&units=imperial\n",
      "Processing Record city number: 51 City Name:torbay\n",
      "{'coord': {'lon': -52.73, 'lat': 47.66}, 'weather': [{'id': 803, 'main': 'Clouds', 'description': 'broken clouds', 'icon': '04d'}], 'base': 'stations', 'main': {'temp': 50, 'pressure': 1016, 'humidity': 71, 'temp_min': 50, 'temp_max': 50}, 'visibility': 24140, 'wind': {'speed': 6.93, 'deg': 30}, 'clouds': {'all': 75}, 'dt': 1538848800, 'sys': {'type': 1, 'id': 3467, 'message': 0.0045, 'country': 'CA', 'sunrise': 1538818679, 'sunset': 1538859526}, 'id': 6167817, 'name': 'Torbay', 'cod': 200}\n",
      "https://api.openweathermap.org/data/2.5/weather?&q=torbay&appid=c1381b113bd44611abefbe0ab64c91ea&units=imperial\n",
      "Processing Record city number: 52 City Name:sioux lookout\n",
      "{'coord': {'lon': -91.92, 'lat': 50.1}, 'weather': [{'id': 520, 'main': 'Rain', 'description': 'light intensity shower rain', 'icon': '09d'}], 'base': 'stations', 'main': {'temp': 38.12, 'pressure': 1021, 'humidity': 86, 'temp_min': 37.4, 'temp_max': 39.2}, 'visibility': 19312, 'wind': {'speed': 4.7, 'deg': 360}, 'clouds': {'all': 90}, 'dt': 1538848800, 'sys': {'type': 1, 'id': 3712, 'message': 0.0055, 'country': 'CA', 'sunrise': 1538828210, 'sunset': 1538868798}, 'id': 6148373, 'name': 'Sioux Lookout', 'cod': 200}\n",
      "https://api.openweathermap.org/data/2.5/weather?&q=sioux lookout&appid=c1381b113bd44611abefbe0ab64c91ea&units=imperial\n",
      "Processing Record city number: 53 City Name:cape town\n",
      "{'coord': {'lon': 18.42, 'lat': -33.93}, 'weather': [{'id': 800, 'main': 'Clear', 'description': 'clear sky', 'icon': '01n'}], 'base': 'stations', 'main': {'temp': 69.8, 'pressure': 1016, 'humidity': 68, 'temp_min': 69.8, 'temp_max': 69.8}, 'visibility': 10000, 'wind': {'speed': 9.17, 'deg': 150}, 'clouds': {'all': 0}, 'dt': 1538848800, 'sys': {'type': 1, 'id': 6529, 'message': 0.0036, 'country': 'ZA', 'sunrise': 1538799343, 'sunset': 1538844797}, 'id': 3369157, 'name': 'Cape Town', 'cod': 200}\n",
      "https://api.openweathermap.org/data/2.5/weather?&q=cape town&appid=c1381b113bd44611abefbe0ab64c91ea&units=imperial\n"
     ]
    },
    {
     "name": "stdout",
     "output_type": "stream",
     "text": [
      "Processing Record city number: 54 City Name:provideniya\n",
      "{'coord': {'lon': -173.23, 'lat': 64.42}, 'weather': [{'id': 804, 'main': 'Clouds', 'description': 'overcast clouds', 'icon': '04d'}], 'base': 'stations', 'main': {'temp': 45.02, 'pressure': 1010.99, 'humidity': 100, 'temp_min': 45.02, 'temp_max': 45.02, 'sea_level': 1017.1, 'grnd_level': 1010.99}, 'wind': {'speed': 23.29, 'deg': 57.502}, 'clouds': {'all': 88}, 'dt': 1538852397, 'sys': {'message': 0.0034, 'country': 'RU', 'sunrise': 1538848809, 'sunset': 1538887185}, 'id': 4031574, 'name': 'Provideniya', 'cod': 200}\n",
      "https://api.openweathermap.org/data/2.5/weather?&q=provideniya&appid=c1381b113bd44611abefbe0ab64c91ea&units=imperial\n",
      "Processing Record city number: 55 City Name:severo-kurilsk\n",
      "{'coord': {'lon': 156.12, 'lat': 50.68}, 'weather': [{'id': 802, 'main': 'Clouds', 'description': 'scattered clouds', 'icon': '03n'}], 'base': 'stations', 'main': {'temp': 46.19, 'pressure': 1010.58, 'humidity': 92, 'temp_min': 46.19, 'temp_max': 46.19, 'sea_level': 1023.79, 'grnd_level': 1010.58}, 'wind': {'speed': 17.36, 'deg': 319.502}, 'clouds': {'all': 48}, 'dt': 1538852397, 'sys': {'message': 0.0035, 'country': 'RU', 'sunrise': 1538768644, 'sunset': 1538809328}, 'id': 2121385, 'name': 'Severo-Kurilsk', 'cod': 200}\n",
      "https://api.openweathermap.org/data/2.5/weather?&q=severo-kurilsk&appid=c1381b113bd44611abefbe0ab64c91ea&units=imperial\n",
      "Processing Record city number: 56 City Name:nikolskoye\n",
      "{'coord': {'lon': 30.79, 'lat': 59.7}, 'weather': [{'id': 800, 'main': 'Clear', 'description': 'clear sky', 'icon': '01n'}], 'base': 'stations', 'main': {'temp': 48.2, 'pressure': 1005, 'humidity': 87, 'temp_min': 48.2, 'temp_max': 48.2}, 'visibility': 10000, 'wind': {'speed': 4.47, 'deg': 250}, 'clouds': {'all': 0}, 'dt': 1538848800, 'sys': {'type': 1, 'id': 7267, 'message': 0.004, 'country': 'RU', 'sunrise': 1538799315, 'sunset': 1538838783}, 'id': 546105, 'name': 'Nikolskoye', 'cod': 200}\n",
      "https://api.openweathermap.org/data/2.5/weather?&q=nikolskoye&appid=c1381b113bd44611abefbe0ab64c91ea&units=imperial\n",
      "Processing Record city number: 57 City Name:morant bay\n",
      "{'coord': {'lon': -76.41, 'lat': 17.88}, 'weather': [{'id': 803, 'main': 'Clouds', 'description': 'broken clouds', 'icon': '04d'}], 'base': 'stations', 'main': {'temp': 84.2, 'pressure': 1012, 'humidity': 70, 'temp_min': 84.2, 'temp_max': 84.2}, 'visibility': 10000, 'wind': {'speed': 12.75, 'deg': 140}, 'clouds': {'all': 75}, 'dt': 1538848800, 'sys': {'type': 1, 'id': 4111, 'message': 0.0032, 'country': 'JM', 'sunrise': 1538823428, 'sunset': 1538866174}, 'id': 3489440, 'name': 'Morant Bay', 'cod': 200}\n",
      "https://api.openweathermap.org/data/2.5/weather?&q=morant bay&appid=c1381b113bd44611abefbe0ab64c91ea&units=imperial\n",
      "Processing Record city number: 58 City Name:cairns\n",
      "{'coord': {'lon': 145.77, 'lat': -16.92}, 'weather': [{'id': 803, 'main': 'Clouds', 'description': 'broken clouds', 'icon': '04n'}], 'base': 'stations', 'main': {'temp': 73.4, 'pressure': 1014, 'humidity': 83, 'temp_min': 73.4, 'temp_max': 73.4}, 'visibility': 10000, 'wind': {'speed': 1.92, 'deg': 180.502}, 'clouds': {'all': 75}, 'dt': 1538850600, 'sys': {'type': 1, 'id': 8166, 'message': 0.0038, 'country': 'AU', 'sunrise': 1538769306, 'sunset': 1538813701}, 'id': 2172797, 'name': 'Cairns', 'cod': 200}\n",
      "https://api.openweathermap.org/data/2.5/weather?&q=cairns&appid=c1381b113bd44611abefbe0ab64c91ea&units=imperial\n",
      "Processing Record city number: 59 City Name:aku\n",
      "{'coord': {'lon': 7.54, 'lat': 7.36}, 'weather': [{'id': 802, 'main': 'Clouds', 'description': 'scattered clouds', 'icon': '03n'}], 'base': 'stations', 'main': {'temp': 80.75, 'pressure': 1003.69, 'humidity': 83, 'temp_min': 80.75, 'temp_max': 80.75, 'sea_level': 1024.03, 'grnd_level': 1003.69}, 'wind': {'speed': 4.83, 'deg': 232.502}, 'clouds': {'all': 36}, 'dt': 1538852398, 'sys': {'message': 0.0032, 'country': 'NG', 'sunrise': 1538803034, 'sunset': 1538846289}, 'id': 2349788, 'name': 'Aku', 'cod': 200}\n",
      "https://api.openweathermap.org/data/2.5/weather?&q=aku&appid=c1381b113bd44611abefbe0ab64c91ea&units=imperial\n",
      "Processing Record city number: 60 City Name:lebu\n",
      "{'coord': {'lon': 38.73, 'lat': 8.96}, 'weather': [{'id': 800, 'main': 'Clear', 'description': 'clear sky', 'icon': '02n'}], 'base': 'stations', 'main': {'temp': 55.1, 'pressure': 777.86, 'humidity': 44, 'temp_min': 55.1, 'temp_max': 55.1, 'sea_level': 1022.61, 'grnd_level': 777.86}, 'wind': {'speed': 5.84, 'deg': 78.002}, 'clouds': {'all': 8}, 'dt': 1538852398, 'sys': {'message': 0.0029, 'country': 'ET', 'sunrise': 1538795585, 'sunset': 1538838768}, 'id': 344979, 'name': 'Lebu', 'cod': 200}\n",
      "https://api.openweathermap.org/data/2.5/weather?&q=lebu&appid=c1381b113bd44611abefbe0ab64c91ea&units=imperial\n",
      "Processing Record city number: 61 City Name:carnarvon\n",
      "{'coord': {'lon': 22.13, 'lat': -30.97}, 'weather': [{'id': 801, 'main': 'Clouds', 'description': 'few clouds', 'icon': '02n'}], 'base': 'stations', 'main': {'temp': 63.65, 'pressure': 879.02, 'humidity': 13, 'temp_min': 63.65, 'temp_max': 63.65, 'sea_level': 1029.62, 'grnd_level': 879.02}, 'wind': {'speed': 5.61, 'deg': 265.502}, 'clouds': {'all': 20}, 'dt': 1538852398, 'sys': {'message': 0.0031, 'country': 'ZA', 'sunrise': 1538798556, 'sunset': 1538843801}, 'id': 1014034, 'name': 'Carnarvon', 'cod': 200}\n",
      "https://api.openweathermap.org/data/2.5/weather?&q=carnarvon&appid=c1381b113bd44611abefbe0ab64c91ea&units=imperial\n",
      "Processing Record city number: 62 City Name:chancay\n",
      "{'coord': {'lon': -77.27, 'lat': -11.56}, 'weather': [{'id': 801, 'main': 'Clouds', 'description': 'few clouds', 'icon': '02d'}], 'base': 'stations', 'main': {'temp': 71.84, 'pressure': 986.83, 'humidity': 62, 'temp_min': 71.84, 'temp_max': 71.84, 'sea_level': 1026.18, 'grnd_level': 986.83}, 'wind': {'speed': 4.61, 'deg': 230.002}, 'clouds': {'all': 12}, 'dt': 1538852399, 'sys': {'message': 0.0045, 'country': 'PE', 'sunrise': 1538822944, 'sunset': 1538867096}, 'id': 3944399, 'name': 'Chancay', 'cod': 200}\n",
      "https://api.openweathermap.org/data/2.5/weather?&q=chancay&appid=c1381b113bd44611abefbe0ab64c91ea&units=imperial\n",
      "City not found, skipping...\n",
      "Processing Record city number: 63 City Name:hasaki\n",
      "{'coord': {'lon': 140.83, 'lat': 35.73}, 'weather': [{'id': 801, 'main': 'Clouds', 'description': 'few clouds', 'icon': '02n'}], 'base': 'stations', 'main': {'temp': 77, 'pressure': 1006, 'humidity': 83, 'temp_min': 77, 'temp_max': 77}, 'visibility': 10000, 'wind': {'speed': 17.22, 'deg': 210, 'gust': 12.9}, 'clouds': {'all': 20}, 'dt': 1538848800, 'sys': {'type': 1, 'id': 7505, 'message': 0.0043, 'country': 'JP', 'sunrise': 1538771750, 'sunset': 1538813581}, 'id': 2112802, 'name': 'Hasaki', 'cod': 200}\n",
      "https://api.openweathermap.org/data/2.5/weather?&q=hasaki&appid=c1381b113bd44611abefbe0ab64c91ea&units=imperial\n",
      "Processing Record city number: 64 City Name:berlevag\n",
      "{'coord': {'lon': 29.09, 'lat': 70.86}, 'weather': [{'id': 800, 'main': 'Clear', 'description': 'clear sky', 'icon': '01n'}], 'base': 'stations', 'main': {'temp': 30.71, 'pressure': 991.53, 'humidity': 100, 'temp_min': 30.71, 'temp_max': 30.71, 'sea_level': 1009.84, 'grnd_level': 991.53}, 'wind': {'speed': 8.3, 'deg': 305.002}, 'clouds': {'all': 0}, 'dt': 1538852399, 'sys': {'message': 0.005, 'country': 'NO', 'sunrise': 1538801052, 'sunset': 1538837818}, 'id': 780687, 'name': 'Berlevag', 'cod': 200}\n",
      "https://api.openweathermap.org/data/2.5/weather?&q=berlevag&appid=c1381b113bd44611abefbe0ab64c91ea&units=imperial\n",
      "Processing Record city number: 65 City Name:port alfred\n",
      "{'coord': {'lon': 26.89, 'lat': -33.59}, 'weather': [{'id': 803, 'main': 'Clouds', 'description': 'broken clouds', 'icon': '04n'}], 'base': 'stations', 'main': {'temp': 68.24, 'pressure': 1026.72, 'humidity': 92, 'temp_min': 68.24, 'temp_max': 68.24, 'sea_level': 1035.58, 'grnd_level': 1026.72}, 'wind': {'speed': 12.66, 'deg': 89.502}, 'clouds': {'all': 76}, 'dt': 1538852399, 'sys': {'message': 0.004, 'country': 'ZA', 'sunrise': 1538797325, 'sunset': 1538842751}, 'id': 964432, 'name': 'Port Alfred', 'cod': 200}\n",
      "https://api.openweathermap.org/data/2.5/weather?&q=port alfred&appid=c1381b113bd44611abefbe0ab64c91ea&units=imperial\n",
      "Processing Record city number: 66 City Name:galesong\n",
      "{'coord': {'lon': 119.37, 'lat': -5.32}, 'weather': [{'id': 800, 'main': 'Clear', 'description': 'clear sky', 'icon': '01n'}], 'base': 'stations', 'main': {'temp': 74.36, 'pressure': 1017.31, 'humidity': 93, 'temp_min': 74.36, 'temp_max': 74.36, 'sea_level': 1023.46, 'grnd_level': 1017.31}, 'wind': {'speed': 7.74, 'deg': 105.502}, 'clouds': {'all': 0}, 'dt': 1538852400, 'sys': {'message': 0.0031, 'country': 'ID', 'sunrise': 1538775915, 'sunset': 1538819751}, 'id': 1644605, 'name': 'Galesong', 'cod': 200}\n",
      "https://api.openweathermap.org/data/2.5/weather?&q=galesong&appid=c1381b113bd44611abefbe0ab64c91ea&units=imperial\n"
     ]
    },
    {
     "name": "stdout",
     "output_type": "stream",
     "text": [
      "Processing Record city number: 67 City Name:naryan-mar\n",
      "{'coord': {'lon': 53.09, 'lat': 67.67}, 'weather': [{'id': 500, 'main': 'Rain', 'description': 'light rain', 'icon': '10n'}], 'base': 'stations', 'main': {'temp': 35.93, 'pressure': 1005.31, 'humidity': 100, 'temp_min': 35.93, 'temp_max': 35.93, 'sea_level': 1008.55, 'grnd_level': 1005.31}, 'wind': {'speed': 18.7, 'deg': 191.002}, 'rain': {'3h': 0.225}, 'clouds': {'all': 56}, 'dt': 1538852400, 'sys': {'message': 0.0135, 'country': 'RU', 'sunrise': 1538794770, 'sunset': 1538832599}, 'id': 523392, 'name': 'Naryan-Mar', 'cod': 200}\n",
      "https://api.openweathermap.org/data/2.5/weather?&q=naryan-mar&appid=c1381b113bd44611abefbe0ab64c91ea&units=imperial\n",
      "Processing Record city number: 68 City Name:north myrtle beach\n",
      "{'coord': {'lon': -78.68, 'lat': 33.83}, 'weather': [{'id': 800, 'main': 'Clear', 'description': 'clear sky', 'icon': '01d'}], 'base': 'stations', 'main': {'temp': 85.21, 'pressure': 1020, 'humidity': 69, 'temp_min': 84.2, 'temp_max': 86}, 'visibility': 16093, 'wind': {'speed': 5.82, 'deg': 80}, 'clouds': {'all': 1}, 'dt': 1538851200, 'sys': {'type': 1, 'id': 1828, 'message': 0.1329, 'country': 'US', 'sunrise': 1538824403, 'sunset': 1538866274}, 'id': 4589446, 'name': 'North Myrtle Beach', 'cod': 200}\n",
      "https://api.openweathermap.org/data/2.5/weather?&q=north myrtle beach&appid=c1381b113bd44611abefbe0ab64c91ea&units=imperial\n",
      "City not found, skipping...\n",
      "Processing Record city number: 69 City Name:georgetown\n",
      "{'coord': {'lon': -58.16, 'lat': 6.8}, 'weather': [{'id': 803, 'main': 'Clouds', 'description': 'broken clouds', 'icon': '04d'}], 'base': 'stations', 'main': {'temp': 82.4, 'pressure': 1010, 'humidity': 78, 'temp_min': 82.4, 'temp_max': 82.4}, 'visibility': 10000, 'wind': {'speed': 13.87, 'deg': 310}, 'clouds': {'all': 75}, 'dt': 1538848800, 'sys': {'type': 1, 'id': 4343, 'message': 0.2983, 'country': 'GY', 'sunrise': 1538818789, 'sunset': 1538862065}, 'id': 3378644, 'name': 'Georgetown', 'cod': 200}\n",
      "https://api.openweathermap.org/data/2.5/weather?&q=georgetown&appid=c1381b113bd44611abefbe0ab64c91ea&units=imperial\n",
      "Processing Record city number: 70 City Name:ponta do sol\n",
      "{'coord': {'lon': -46, 'lat': -20.63}, 'weather': [{'id': 803, 'main': 'Clouds', 'description': 'broken clouds', 'icon': '04d'}], 'base': 'stations', 'main': {'temp': 77.6, 'pressure': 925.39, 'humidity': 79, 'temp_min': 77.6, 'temp_max': 77.6, 'sea_level': 1024.88, 'grnd_level': 925.39}, 'wind': {'speed': 7.96, 'deg': 35.002}, 'clouds': {'all': 80}, 'dt': 1538852467, 'sys': {'message': 0.1674, 'country': 'BR', 'sunrise': 1538815207, 'sunset': 1538859834}, 'id': 3453439, 'name': 'Ponta do Sol', 'cod': 200}\n",
      "https://api.openweathermap.org/data/2.5/weather?&q=ponta do sol&appid=c1381b113bd44611abefbe0ab64c91ea&units=imperial\n",
      "Processing Record city number: 71 City Name:urengoy\n",
      "{'coord': {'lon': 78.37, 'lat': 65.96}, 'weather': [{'id': 802, 'main': 'Clouds', 'description': 'scattered clouds', 'icon': '03n'}], 'base': 'stations', 'main': {'temp': 49.16, 'pressure': 1015.04, 'humidity': 80, 'temp_min': 49.16, 'temp_max': 49.16, 'sea_level': 1019.41, 'grnd_level': 1015.04}, 'wind': {'speed': 12.44, 'deg': 178.502}, 'clouds': {'all': 36}, 'dt': 1538852404, 'sys': {'message': 0.3251, 'country': 'RU', 'sunrise': 1538788472, 'sunset': 1538826773}, 'id': 1488414, 'name': 'Urengoy', 'cod': 200}\n",
      "https://api.openweathermap.org/data/2.5/weather?&q=urengoy&appid=c1381b113bd44611abefbe0ab64c91ea&units=imperial\n",
      "City not found, skipping...\n"
     ]
    },
    {
     "ename": "KeyError",
     "evalue": "'name'",
     "output_type": "error",
     "traceback": [
      "\u001b[1;31m---------------------------------------------------------------------------\u001b[0m",
      "\u001b[1;31mKeyError\u001b[0m                                  Traceback (most recent call last)",
      "\u001b[1;32m<ipython-input-9-4bac429ec54b>\u001b[0m in \u001b[0;36m<module>\u001b[1;34m()\u001b[0m\n\u001b[0;32m     13\u001b[0m \u001b[1;33m\u001b[0m\u001b[0m\n\u001b[0;32m     14\u001b[0m     \u001b[1;32melse\u001b[0m\u001b[1;33m:\u001b[0m\u001b[1;33m\u001b[0m\u001b[0m\n\u001b[1;32m---> 15\u001b[1;33m         \u001b[0mcities_df\u001b[0m\u001b[1;33m.\u001b[0m\u001b[0mset_value\u001b[0m\u001b[1;33m(\u001b[0m\u001b[0mindex\u001b[0m\u001b[1;33m,\u001b[0m \u001b[1;34m\"City\"\u001b[0m\u001b[1;33m,\u001b[0m \u001b[0mresponse\u001b[0m\u001b[1;33m[\u001b[0m\u001b[1;34m\"name\"\u001b[0m\u001b[1;33m]\u001b[0m\u001b[1;33m)\u001b[0m\u001b[1;33m\u001b[0m\u001b[0m\n\u001b[0m\u001b[0;32m     16\u001b[0m         \u001b[0mcities_df\u001b[0m\u001b[1;33m.\u001b[0m\u001b[0mset_value\u001b[0m\u001b[1;33m(\u001b[0m\u001b[0mindex\u001b[0m\u001b[1;33m,\u001b[0m \u001b[1;34m\"Temperature\"\u001b[0m\u001b[1;33m,\u001b[0m \u001b[0mresponse\u001b[0m\u001b[1;33m[\u001b[0m\u001b[1;34m\"main\"\u001b[0m\u001b[1;33m]\u001b[0m\u001b[1;33m[\u001b[0m\u001b[1;34m\"temp\"\u001b[0m\u001b[1;33m]\u001b[0m\u001b[1;33m)\u001b[0m\u001b[1;33m\u001b[0m\u001b[0m\n\u001b[0;32m     17\u001b[0m         \u001b[0mcities_df\u001b[0m\u001b[1;33m.\u001b[0m\u001b[0mset_value\u001b[0m\u001b[1;33m(\u001b[0m\u001b[0mindex\u001b[0m\u001b[1;33m,\u001b[0m \u001b[1;34m\"Latitude\"\u001b[0m\u001b[1;33m,\u001b[0m \u001b[0mresponse\u001b[0m\u001b[1;33m[\u001b[0m\u001b[1;34m\"coord\"\u001b[0m\u001b[1;33m]\u001b[0m\u001b[1;33m[\u001b[0m\u001b[1;34m\"lat\"\u001b[0m\u001b[1;33m]\u001b[0m\u001b[1;33m)\u001b[0m\u001b[1;33m\u001b[0m\u001b[0m\n",
      "\u001b[1;31mKeyError\u001b[0m: 'name'"
     ]
    }
   ],
   "source": [
    "url = \"https://api.openweathermap.org/data/2.5/weather?\"\n",
    "units = \"imperial\"\n",
    "\n",
    "counter = 0\n",
    "\n",
    "for index, row in cities_df.iterrows():\n",
    "    city = row [\"City\"]\n",
    "    weather_url = url + \"&q=\" + city + \"&appid=\" + api_key + \"&units=\" + units\n",
    "    response = requests.get(weather_url).json()\n",
    "    \n",
    "    if response[\"cod\"] == \"404\":\n",
    "        print(\"City not found, skipping...\")\n",
    "\n",
    "    else:\n",
    "        cities_df.set_value(index, \"City\", response[\"name\"])\n",
    "        cities_df.set_value(index, \"Temperature\", response[\"main\"][\"temp\"])\n",
    "        cities_df.set_value(index, \"Latitude\", response[\"coord\"][\"lat\"])\n",
    "        cities_df.set_value(index, \"Longitude\", response[\"coord\"][\"lon\"])\n",
    "        cities_df.set_value(index, \"Humidity\", response[\"main\"][\"humidity\"])\n",
    "        cities_df.set_value(index, \"Cloudiness\", response[\"clouds\"][\"all\"])\n",
    "        cities_df.set_value(index, \"Wind_Speed\", response[\"wind\"][\"speed\"])\n",
    "        \n",
    "        print(f\"Processing Record city number: \"+ str(counter+1) +\" \"+ \"City Name:\" + city)\n",
    "        print(response)\n",
    "        print(weather_url)\n",
    "        counter +=1 "
   ]
  },
  {
   "cell_type": "markdown",
   "metadata": {},
   "source": [
    "### Convert Raw Data to DataFrame\n",
    "* Export the city data into a .csv.\n",
    "* Display the DataFrame"
   ]
  },
  {
   "cell_type": "code",
   "execution_count": 10,
   "metadata": {},
   "outputs": [
    {
     "data": {
      "text/html": [
       "<div>\n",
       "<style scoped>\n",
       "    .dataframe tbody tr th:only-of-type {\n",
       "        vertical-align: middle;\n",
       "    }\n",
       "\n",
       "    .dataframe tbody tr th {\n",
       "        vertical-align: top;\n",
       "    }\n",
       "\n",
       "    .dataframe thead th {\n",
       "        text-align: right;\n",
       "    }\n",
       "</style>\n",
       "<table border=\"1\" class=\"dataframe\">\n",
       "  <thead>\n",
       "    <tr style=\"text-align: right;\">\n",
       "      <th></th>\n",
       "      <th>index</th>\n",
       "      <th>City</th>\n",
       "      <th>Latitude</th>\n",
       "      <th>Longitude</th>\n",
       "      <th>Temperature</th>\n",
       "      <th>Humidity</th>\n",
       "      <th>Cloudiness</th>\n",
       "      <th>Wind_Speed</th>\n",
       "    </tr>\n",
       "  </thead>\n",
       "  <tbody>\n",
       "    <tr>\n",
       "      <th>0</th>\n",
       "      <td>0</td>\n",
       "      <td>Ushuaia</td>\n",
       "      <td>-54.81</td>\n",
       "      <td>-68.31</td>\n",
       "      <td>49.21</td>\n",
       "      <td>57</td>\n",
       "      <td>75</td>\n",
       "      <td>18.34</td>\n",
       "    </tr>\n",
       "    <tr>\n",
       "      <th>1</th>\n",
       "      <td>1</td>\n",
       "      <td>Palmer</td>\n",
       "      <td>-34.85</td>\n",
       "      <td>139.16</td>\n",
       "      <td>59</td>\n",
       "      <td>72</td>\n",
       "      <td>0</td>\n",
       "      <td>10.29</td>\n",
       "    </tr>\n",
       "    <tr>\n",
       "      <th>2</th>\n",
       "      <td>2</td>\n",
       "      <td>Ranong</td>\n",
       "      <td>9.96</td>\n",
       "      <td>98.62</td>\n",
       "      <td>77</td>\n",
       "      <td>100</td>\n",
       "      <td>75</td>\n",
       "      <td>6.96</td>\n",
       "    </tr>\n",
       "    <tr>\n",
       "      <th>3</th>\n",
       "      <td>3</td>\n",
       "      <td>Hidalgo</td>\n",
       "      <td>26.1</td>\n",
       "      <td>-98.26</td>\n",
       "      <td>92.37</td>\n",
       "      <td>52</td>\n",
       "      <td>40</td>\n",
       "      <td>9.17</td>\n",
       "    </tr>\n",
       "    <tr>\n",
       "      <th>4</th>\n",
       "      <td>4</td>\n",
       "      <td>Kavaratti</td>\n",
       "      <td>10.57</td>\n",
       "      <td>72.64</td>\n",
       "      <td>78.86</td>\n",
       "      <td>100</td>\n",
       "      <td>24</td>\n",
       "      <td>3.94</td>\n",
       "    </tr>\n",
       "  </tbody>\n",
       "</table>\n",
       "</div>"
      ],
      "text/plain": [
       "   index       City Latitude Longitude Temperature Humidity Cloudiness  \\\n",
       "0      0    Ushuaia   -54.81    -68.31       49.21       57         75   \n",
       "1      1     Palmer   -34.85    139.16          59       72          0   \n",
       "2      2     Ranong     9.96     98.62          77      100         75   \n",
       "3      3    Hidalgo     26.1    -98.26       92.37       52         40   \n",
       "4      4  Kavaratti    10.57     72.64       78.86      100         24   \n",
       "\n",
       "  Wind_Speed  \n",
       "0      18.34  \n",
       "1      10.29  \n",
       "2       6.96  \n",
       "3       9.17  \n",
       "4       3.94  "
      ]
     },
     "execution_count": 10,
     "metadata": {},
     "output_type": "execute_result"
    }
   ],
   "source": [
    "# Visualize to confirm lat lng appear\n",
    "cities_df = cities_df.reset_index()\n",
    "cities_df.head()"
   ]
  },
  {
   "cell_type": "code",
   "execution_count": 11,
   "metadata": {},
   "outputs": [],
   "source": [
    "cities_df.to_csv(\"Weather.csv\", index = False)"
   ]
  },
  {
   "cell_type": "markdown",
   "metadata": {},
   "source": [
    "### Plotting the Data\n",
    "* Use proper labeling of the plots using plot titles (including date of analysis) and axes labels.\n",
    "* Save the plotted figures as .pngs."
   ]
  },
  {
   "cell_type": "markdown",
   "metadata": {},
   "source": [
    "#### Latitude vs. Temperature Plot"
   ]
  },
  {
   "cell_type": "code",
   "execution_count": 12,
   "metadata": {},
   "outputs": [
    {
     "data": {
      "image/png": "[encoded data removed]",
      "text/plain": [
       "<Figure size 432x288 with 1 Axes>"
      ]
     },
     "metadata": {},
     "output_type": "display_data"
    }
   ],
   "source": [
    "columns = ['Latitude', 'Temperature', 'Humidity', 'Cloudiness', 'Wind_Speed']\n",
    "for column in columns:\n",
    "    cities_df[column] = pd.to_numeric(cities_df[column], errors='coerce')\n",
    "\n",
    "# Axes values\n",
    "x_axis = cities_df['Latitude']\n",
    "y_axis = cities_df['Temperature']\n",
    "\n",
    "plt.scatter(x_axis, y_axis, c='navy', edgecolors='black')\n",
    "\n",
    "plt.title(\"City Latitude vs. Temperature\")\n",
    "plt.xlabel(\"Latitude\")\n",
    "plt.xlim(-60,90)\n",
    "plt.ylabel(\"Temperature\")\n",
    "plt.ylim(-20,125)\n",
    "\n",
    "plt.savefig(\"LatitudeVsTemperature.png\")\n",
    "plt.show()"
   ]
  },
  {
   "cell_type": "markdown",
   "metadata": {},
   "source": [
    "#### Latitude vs. Humidity Plot"
   ]
  },
  {
   "cell_type": "code",
   "execution_count": 13,
   "metadata": {},
   "outputs": [
    {
     "data": {
      "image/png": "[encoded data removed]",
      "text/plain": [
       "<Figure size 432x288 with 1 Axes>"
      ]
     },
     "metadata": {},
     "output_type": "display_data"
    }
   ],
   "source": [
    "columns = ['Latitude', 'Temperature', 'Humidity', 'Cloudiness', 'Wind_Speed']\n",
    "for column in columns:\n",
    "    cities_df[column] = pd.to_numeric(cities_df[column], errors='coerce')\n",
    "\n",
    "# Axes values\n",
    "x_axis = cities_df['Latitude']\n",
    "y_axis = cities_df['Humidity']\n",
    "\n",
    "plt.scatter(x_axis, y_axis, c='navy', edgecolors='black')\n",
    "\n",
    "plt.title(\"City Latitude vs. Humidity\")\n",
    "plt.xlabel(\"Latitude\")\n",
    "plt.xlim(-60,90)\n",
    "plt.ylabel(\"Humidity\")\n",
    "plt.ylim(-20,125)\n",
    "\n",
    "plt.savefig(\"LatitudeVsHumidity.png\")\n",
    "plt.show()"
   ]
  },
  {
   "cell_type": "markdown",
   "metadata": {},
   "source": [
    "#### Latitude vs. Cloudiness Plot"
   ]
  },
  {
   "cell_type": "code",
   "execution_count": 14,
   "metadata": {},
   "outputs": [
    {
     "data": {
      "image/png": "[encoded data removed]",
      "text/plain": [
       "<Figure size 432x288 with 1 Axes>"
      ]
     },
     "metadata": {},
     "output_type": "display_data"
    }
   ],
   "source": [
    "# Axes values\n",
    "x_axis = cities_df['Latitude']\n",
    "y_axis = cities_df['Cloudiness']\n",
    "\n",
    "plt.scatter(x_axis, y_axis, c='navy', edgecolors='black', alpha=1)\n",
    "\n",
    "plt.title(\"City Latitude vs. Cloudiness\")\n",
    "plt.xlabel(\"Latitude\")\n",
    "plt.xlim(-60,90)\n",
    "plt.ylabel(\"Cloudiness\")\n",
    "plt.ylim(-20,120)\n",
    "\n",
    "plt.savefig(\"LatitudeVsCloudiness.png\")\n",
    "plt.show()"
   ]
  },
  {
   "cell_type": "markdown",
   "metadata": {},
   "source": [
    "#### Latitude vs. Wind Speed Plot"
   ]
  },
  {
   "cell_type": "code",
   "execution_count": 15,
   "metadata": {},
   "outputs": [
    {
     "data": {
      "image/png": "[encoded data removed]",
      "text/plain": [
       "<Figure size 432x288 with 1 Axes>"
      ]
     },
     "metadata": {},
     "output_type": "display_data"
    }
   ],
   "source": [
    "# Axes values\n",
    "x_axis = cities_df['Latitude']\n",
    "y_axis = cities_df['Wind_Speed']\n",
    "\n",
    "plt.scatter(x_axis, y_axis, c='navy', edgecolors='black', alpha=1)\n",
    "\n",
    "plt.title(\"City Latitude vs. Wind Speed\")\n",
    "plt.xlabel(\"Latitude\")\n",
    "plt.xlim(-60,90)\n",
    "plt.ylabel(\"Wind_Speed\")\n",
    "plt.ylim(-5,40)\n",
    "\n",
    "plt.savefig(\"LatitudeVsWindSpeed.png\")\n",
    "plt.show()"
   ]
  },
  {
   "cell_type": "code",
   "execution_count": null,
   "metadata": {},
   "outputs": [],
   "source": []
  }
 ],
 "metadata": {
  "anaconda-cloud": {},
  "kernelspec": {
   "display_name": "Python 3",
   "language": "python",
   "name": "python3"
  },
  "language_info": {
   "codemirror_mode": {
    "name": "ipython",
    "version": 3
   },
   "file_extension": ".py",
   "mimetype": "text/x-python",
   "name": "python",
   "nbconvert_exporter": "python",
   "pygments_lexer": "ipython3",
   "version": "3.6.5"
  }
 },
 "nbformat": 4,
 "nbformat_minor": 2
}
